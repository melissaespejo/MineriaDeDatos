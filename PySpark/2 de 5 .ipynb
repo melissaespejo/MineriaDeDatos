{
 "cells": [
  {
   "cell_type": "code",
   "execution_count": null,
   "id": "83bf88ae",
   "metadata": {},
   "outputs": [],
   "source": [
    "#SIMILITUD DE COSENOS"
   ]
  },
  {
   "cell_type": "code",
   "execution_count": 6,
   "id": "fdf5943f",
   "metadata": {},
   "outputs": [
    {
     "data": {
      "text/html": [
       "<div>\n",
       "<style scoped>\n",
       "    .dataframe tbody tr th:only-of-type {\n",
       "        vertical-align: middle;\n",
       "    }\n",
       "\n",
       "    .dataframe tbody tr th {\n",
       "        vertical-align: top;\n",
       "    }\n",
       "\n",
       "    .dataframe thead th {\n",
       "        text-align: right;\n",
       "    }\n",
       "</style>\n",
       "<table border=\"1\" class=\"dataframe\">\n",
       "  <thead>\n",
       "    <tr style=\"text-align: right;\">\n",
       "      <th></th>\n",
       "      <th>myCol</th>\n",
       "      <th>coSim</th>\n",
       "    </tr>\n",
       "  </thead>\n",
       "  <tbody>\n",
       "    <tr>\n",
       "      <th>0</th>\n",
       "      <td>[0.7522716397235971, 0.08349043928935196, 0.29...</td>\n",
       "      <td>0.675685</td>\n",
       "    </tr>\n",
       "    <tr>\n",
       "      <th>1</th>\n",
       "      <td>[0.7444252035889254, 0.07485319151376468, 0.13...</td>\n",
       "      <td>0.669950</td>\n",
       "    </tr>\n",
       "    <tr>\n",
       "      <th>2</th>\n",
       "      <td>[0.3455906004548336, 0.7298718514822977, 0.162...</td>\n",
       "      <td>0.837654</td>\n",
       "    </tr>\n",
       "    <tr>\n",
       "      <th>3</th>\n",
       "      <td>[0.861522590811416, 0.758465432129017, 0.14662...</td>\n",
       "      <td>0.696734</td>\n",
       "    </tr>\n",
       "    <tr>\n",
       "      <th>4</th>\n",
       "      <td>[0.8935267690156283, 0.28618536782972026, 0.17...</td>\n",
       "      <td>0.739941</td>\n",
       "    </tr>\n",
       "    <tr>\n",
       "      <th>5</th>\n",
       "      <td>[0.8641126563384082, 0.1080635160900919, 0.074...</td>\n",
       "      <td>0.757619</td>\n",
       "    </tr>\n",
       "    <tr>\n",
       "      <th>6</th>\n",
       "      <td>[0.7436462825553632, 0.1383844441626948, 0.745...</td>\n",
       "      <td>0.783198</td>\n",
       "    </tr>\n",
       "    <tr>\n",
       "      <th>7</th>\n",
       "      <td>[0.6754186114954661, 0.24416162502123773, 0.87...</td>\n",
       "      <td>0.734867</td>\n",
       "    </tr>\n",
       "    <tr>\n",
       "      <th>8</th>\n",
       "      <td>[0.9723202084183448, 0.8516161700303959, 0.964...</td>\n",
       "      <td>0.661223</td>\n",
       "    </tr>\n",
       "    <tr>\n",
       "      <th>9</th>\n",
       "      <td>[0.292144978856558, 0.06118236594555526, 0.342...</td>\n",
       "      <td>0.626082</td>\n",
       "    </tr>\n",
       "  </tbody>\n",
       "</table>\n",
       "</div>"
      ],
      "text/plain": [
       "                                               myCol     coSim\n",
       "0  [0.7522716397235971, 0.08349043928935196, 0.29...  0.675685\n",
       "1  [0.7444252035889254, 0.07485319151376468, 0.13...  0.669950\n",
       "2  [0.3455906004548336, 0.7298718514822977, 0.162...  0.837654\n",
       "3  [0.861522590811416, 0.758465432129017, 0.14662...  0.696734\n",
       "4  [0.8935267690156283, 0.28618536782972026, 0.17...  0.739941\n",
       "5  [0.8641126563384082, 0.1080635160900919, 0.074...  0.757619\n",
       "6  [0.7436462825553632, 0.1383844441626948, 0.745...  0.783198\n",
       "7  [0.6754186114954661, 0.24416162502123773, 0.87...  0.734867\n",
       "8  [0.9723202084183448, 0.8516161700303959, 0.964...  0.661223\n",
       "9  [0.292144978856558, 0.06118236594555526, 0.342...  0.626082"
      ]
     },
     "execution_count": 6,
     "metadata": {},
     "output_type": "execute_result"
    }
   ],
   "source": [
    "#importamos las librerias que se vana autilizar\n",
    "import numpy as np\n",
    "from pyspark.ml.linalg import *\n",
    "from pyspark.sql.types import * \n",
    "from pyspark.sql.functions import *\n",
    "\n",
    "#funcion para generar un vestor random\n",
    "def random_dense_vector(length=10):\n",
    "    return Vectors.dense([float(np.random.random()) for i in range(length)])\n",
    "\n",
    "#se crea un vector random estatico\n",
    "static_vector = random_dense_vector()\n",
    "\n",
    "\n",
    "df = spark.createDataFrame([[random_dense_vector()] for x in range(10)], [\"myCol\"])\n",
    "df.limit(3).toPandas()\n",
    "\n",
    "#similaridad de coseno\n",
    "def cos_sim(a,b):\n",
    "    return float(np.dot(a, b) / (np.linalg.norm(a) * np.linalg.norm(b)))\n",
    "\n",
    "#aplicamos udf a las columnas\n",
    "df = df.withColumn(\"coSim\", udf(cos_sim, FloatType())(col(\"myCol\"), array([lit(v) for v in static_vector])))\n",
    "df.limit(10).toPandas()"
   ]
  },
  {
   "cell_type": "code",
   "execution_count": 3,
   "id": "3cdffa12",
   "metadata": {},
   "outputs": [
    {
     "name": "stderr",
     "output_type": "stream",
     "text": [
      "WARNING: An illegal reflective access operation has occurred\n",
      "WARNING: Illegal reflective access by org.apache.spark.unsafe.Platform (file:/home/melossa/.local/lib/python3.8/site-packages/pyspark/jars/spark-unsafe_2.12-3.2.0.jar) to constructor java.nio.DirectByteBuffer(long,int)\n",
      "WARNING: Please consider reporting this to the maintainers of org.apache.spark.unsafe.Platform\n",
      "WARNING: Use --illegal-access=warn to enable warnings of further illegal reflective access operations\n",
      "WARNING: All illegal access operations will be denied in a future release\n",
      "Using Spark's default log4j profile: org/apache/spark/log4j-defaults.properties\n",
      "Setting default log level to \"WARN\".\n",
      "To adjust logging level use sc.setLogLevel(newLevel). For SparkR, use setLogLevel(newLevel).\n",
      "22/01/09 12:19:44 WARN NativeCodeLoader: Unable to load native-hadoop library for your platform... using builtin-java classes where applicable\n",
      "22/01/09 12:19:45 WARN Utils: Service 'SparkUI' could not bind on port 4040. Attempting port 4041.\n",
      "22/01/09 12:19:45 WARN Utils: Service 'SparkUI' could not bind on port 4041. Attempting port 4042.\n"
     ]
    }
   ],
   "source": [
    "from pyspark.context import SparkContext\n",
    "from pyspark.sql.session import SparkSession\n",
    "sc = SparkContext('local')\n",
    "spark = SparkSession(sc)"
   ]
  },
  {
   "cell_type": "code",
   "execution_count": null,
   "id": "c5188f10",
   "metadata": {},
   "outputs": [],
   "source": [
    "#Escalado"
   ]
  },
  {
   "cell_type": "code",
   "execution_count": 5,
   "id": "ac5e1498",
   "metadata": {},
   "outputs": [
    {
     "name": "stdout",
     "output_type": "stream",
     "text": [
      "Antes :\n",
      "+------+----+-------+----------+\n",
      "|userID|Name|Revenue|No_of_Days|\n",
      "+------+----+-------+----------+\n",
      "|     1|   H|  12560|        45|\n",
      "|     1|   O|  42560|        90|\n",
      "|     1|   L|  31285|       120|\n",
      "|     1|   I|  10345|       150|\n",
      "+------+----+-------+----------+\n",
      "\n",
      "Despues :\n",
      "+------+----+-------+----------+--------------+-----------------+\n",
      "|userID|Name|Revenue|No_of_Days|Revenue_Scaled|No_of_Days_Scaled|\n",
      "+------+----+-------+----------+--------------+-----------------+\n",
      "|     1|   H|  12560|        45|         0.069|              0.0|\n",
      "|     1|   O|  42560|        90|           1.0|            0.429|\n",
      "|     1|   L|  31285|       120|          0.65|            0.714|\n",
      "|     1|   I|  10345|       150|           0.0|              1.0|\n",
      "+------+----+-------+----------+--------------+-----------------+\n",
      "\n"
     ]
    }
   ],
   "source": [
    "df = spark.createDataFrame([ (1, 'H',12560,45),\n",
    "                             (1, 'O',42560,90),\n",
    "                             (1, 'L',31285,120),\n",
    "                             (1, 'I',10345,150)\n",
    "                           ], [\"userID\", \"Name\",\"Revenue\",\"No_of_Days\"])\n",
    "\n",
    "print(\"Antes :\")\n",
    "df.show(5)\n",
    "\n",
    "from pyspark.ml.feature import MinMaxScaler\n",
    "from pyspark.ml.feature import VectorAssembler\n",
    "from pyspark.ml import Pipeline\n",
    "from pyspark.sql.functions import udf\n",
    "from pyspark.sql.types import DoubleType\n",
    "\n",
    "# UDF para convertir el tipo de columna de vector a tipo double\n",
    "\n",
    "unlist = udf(lambda x: round(float(list(x)[0]),3), DoubleType())\n",
    "\n",
    "#Iterando columnas para escalar\n",
    "for i in [\"Revenue\",\"No_of_Days\"]:\n",
    "    # VectorAssembler transformacion\n",
    "    assembler = VectorAssembler(inputCols=[i],outputCol=i+\"_Vect\")\n",
    "\n",
    "    #Transformacion MinMaxScaler\n",
    "    scaler = MinMaxScaler(inputCol=i+\"_Vect\", outputCol=i+\"_Scaled\")\n",
    "\n",
    "    # Canalizacion de VectorAssembler y MinMaxScaler\n",
    "    pipeline = Pipeline(stages=[assembler, scaler])\n",
    "\n",
    "    # Ajuste en el marco de datos \n",
    "    df = pipeline.fit(df).transform(df).withColumn(i+\"_Scaled\", unlist(i+\"_Scaled\")).drop(i+\"_Vect\")\n",
    "\n",
    "print(\"Despues :\")\n",
    "df.show(5)"
   ]
  },
  {
   "cell_type": "code",
   "execution_count": null,
   "id": "f94f1b1b",
   "metadata": {},
   "outputs": [],
   "source": []
  }
 ],
 "metadata": {
  "kernelspec": {
   "display_name": "Python 3 (ipykernel)",
   "language": "python",
   "name": "python3"
  },
  "language_info": {
   "codemirror_mode": {
    "name": "ipython",
    "version": 3
   },
   "file_extension": ".py",
   "mimetype": "text/x-python",
   "name": "python",
   "nbconvert_exporter": "python",
   "pygments_lexer": "ipython3",
   "version": "3.8.10"
  }
 },
 "nbformat": 4,
 "nbformat_minor": 5
}
